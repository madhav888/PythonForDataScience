{
 "cells": [
  {
   "cell_type": "code",
   "execution_count": 2,
   "id": "af1f913b",
   "metadata": {},
   "outputs": [],
   "source": [
    "import numpy as np\n",
    "import pandas as pd"
   ]
  },
  {
   "cell_type": "markdown",
   "id": "cbee8965",
   "metadata": {},
   "source": [
    "### Read Data from Files\n",
    "\n",
    " 1. csv\n",
    "     data_csv = pd.read_csv('filename.csv')\n",
    " 2. xlsx\n",
    "     data_csv = pd.read_csv('filename.csv')\n",
    " 3. txt\n",
    "     data_csv = pd.read_csv('filename.csv')\n",
    "\n",
    "Blank Cells read as \"nan\""
   ]
  },
  {
   "cell_type": "markdown",
   "id": "c30116dd",
   "metadata": {},
   "source": [
    "##### Importing Data\n",
    "OS library to change the directory\n",
    "\n",
    "import os \n",
    "os.chdir(\"D:\\foldername\")"
   ]
  },
  {
   "cell_type": "markdown",
   "id": "597ea03f",
   "metadata": {},
   "source": [
    "# CSV"
   ]
  },
  {
   "cell_type": "code",
   "execution_count": 3,
   "id": "f70cd0c6",
   "metadata": {},
   "outputs": [],
   "source": [
    "data_csv = pd.read_csv('Iris_data_sample.csv')"
   ]
  },
  {
   "cell_type": "code",
   "execution_count": 4,
   "id": "c6c62d4b",
   "metadata": {},
   "outputs": [],
   "source": [
    "# Blank Cells read as 'nan'\n",
    "# Remove the ID Column by passing index_col = 0\n",
    "# Replacing \"??\" and \"###\" as missing values\n",
    "\n",
    "data_csv = pd.read_csv('Iris_data_sample.csv', index_col = 0, na_values = [\"??\",\"###\"])"
   ]
  },
  {
   "cell_type": "markdown",
   "id": "5af11fc1",
   "metadata": {},
   "source": [
    "# Excel"
   ]
  },
  {
   "cell_type": "code",
   "execution_count": 8,
   "id": "860d9109",
   "metadata": {},
   "outputs": [],
   "source": [
    "data_xlsx = pd.read_excel('Iris_data_sample.xlsx', sheet_name = 'Iris_data', index_col = 0, na_values = [\"??\",\"###\"])"
   ]
  },
  {
   "cell_type": "markdown",
   "id": "7b7ef926",
   "metadata": {},
   "source": [
    "# Text"
   ]
  },
  {
   "cell_type": "code",
   "execution_count": 10,
   "id": "b52ef9f1",
   "metadata": {},
   "outputs": [],
   "source": [
    "# Using Sep/Delimiter to Segregate Data into multiple columns.\n",
    "data_txt = pd.read_table('Iris_data_sample.txt',delimiter = \" \", index_col = 0, na_values = [\"??\",\"###\"])\n",
    "# read_csv can also be used to read .txt files\n",
    "# data_txt = pd.read_csv(#Same Parameters#)"
   ]
  },
  {
   "cell_type": "code",
   "execution_count": 19,
   "id": "1e784c60",
   "metadata": {},
   "outputs": [],
   "source": [
    "dt = pd.read_csv('Iris_data_sample.txt', header=1)"
   ]
  },
  {
   "cell_type": "code",
   "execution_count": 21,
   "id": "1e9f79ea",
   "metadata": {},
   "outputs": [
    {
     "name": "stdout",
     "output_type": "stream",
     "text": [
      "<class 'pandas.core.frame.DataFrame'>\n",
      "RangeIndex: 149 entries, 0 to 148\n",
      "Data columns (total 1 columns):\n",
      " #   Column                             Non-Null Count  Dtype \n",
      "---  ------                             --------------  ----- \n",
      " 0   1 1 5.1 3.5 1.4 0.2 \"Iris-setosa\"  149 non-null    object\n",
      "dtypes: object(1)\n",
      "memory usage: 1.3+ KB\n"
     ]
    }
   ],
   "source": [
    "dt.info()"
   ]
  }
 ],
 "metadata": {
  "kernelspec": {
   "display_name": "Python 3 (ipykernel)",
   "language": "python",
   "name": "python3"
  },
  "language_info": {
   "codemirror_mode": {
    "name": "ipython",
    "version": 3
   },
   "file_extension": ".py",
   "mimetype": "text/x-python",
   "name": "python",
   "nbconvert_exporter": "python",
   "pygments_lexer": "ipython3",
   "version": "3.9.6"
  }
 },
 "nbformat": 4,
 "nbformat_minor": 5
}
