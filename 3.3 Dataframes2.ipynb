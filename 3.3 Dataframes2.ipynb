{
 "cells": [
  {
   "cell_type": "markdown",
   "id": "2e0d56cb",
   "metadata": {},
   "source": [
    "# Data Types\n",
    "Character Data Types :-\n",
    "    1. Category\n",
    "        String variable consisting of only a few \n",
    "        different values.\n",
    "        Converting such variable to Categorical will\n",
    "        save memory.\n",
    "    2. Object\n",
    "        Column is assigned as Object data type when it \n",
    "        has mixed types(num& strings).\n",
    "        If a column contains blank cells, pandas will\n",
    "        default to Object data type.\n",
    "        For strings, the length is not fixed."
   ]
  },
  {
   "cell_type": "code",
   "execution_count": 1,
   "id": "08d1e170",
   "metadata": {},
   "outputs": [],
   "source": [
    "import numpy as np\n",
    "import pandas as pd\n",
    "cd = pd.read_csv('Toyota.csv',index_col=0,)\n",
    "cdt = cd.copy(deep=True) # Real Copy(Not reference)"
   ]
  },
  {
   "cell_type": "code",
   "execution_count": 16,
   "id": "f1ee5242",
   "metadata": {},
   "outputs": [
    {
     "data": {
      "text/plain": [
       "Price          int64\n",
       "Age          float64\n",
       "KM            object\n",
       "FuelType      object\n",
       "HP            object\n",
       "MetColor     float64\n",
       "Automatic      int64\n",
       "CC             int64\n",
       "Doors         object\n",
       "Weight         int64\n",
       "dtype: object"
      ]
     },
     "execution_count": 16,
     "metadata": {},
     "output_type": "execute_result"
    }
   ],
   "source": [
    "# Checking Data Type of each Column\n",
    "cdt.dtypes\n"
   ]
  },
  {
   "cell_type": "code",
   "execution_count": 17,
   "id": "0d71e4a7",
   "metadata": {},
   "outputs": [
    {
     "data": {
      "text/plain": [
       "int64      4\n",
       "object     4\n",
       "float64    2\n",
       "dtype: int64"
      ]
     },
     "execution_count": 17,
     "metadata": {},
     "output_type": "execute_result"
    }
   ],
   "source": [
    "# Count of Unique Data Types : get_dtype_counts\n",
    "cdt.dtypes.value_counts()"
   ]
  },
  {
   "cell_type": "code",
   "execution_count": 40,
   "id": "4bd9b553",
   "metadata": {},
   "outputs": [
    {
     "data": {
      "text/html": [
       "<div>\n",
       "<style scoped>\n",
       "    .dataframe tbody tr th:only-of-type {\n",
       "        vertical-align: middle;\n",
       "    }\n",
       "\n",
       "    .dataframe tbody tr th {\n",
       "        vertical-align: top;\n",
       "    }\n",
       "\n",
       "    .dataframe thead th {\n",
       "        text-align: right;\n",
       "    }\n",
       "</style>\n",
       "<table border=\"1\" class=\"dataframe\">\n",
       "  <thead>\n",
       "    <tr style=\"text-align: right;\">\n",
       "      <th></th>\n",
       "      <th>Price</th>\n",
       "      <th>KM</th>\n",
       "      <th>FuelType</th>\n",
       "      <th>HP</th>\n",
       "      <th>Automatic</th>\n",
       "      <th>CC</th>\n",
       "      <th>Doors</th>\n",
       "      <th>Weight</th>\n",
       "    </tr>\n",
       "  </thead>\n",
       "  <tbody>\n",
       "    <tr>\n",
       "      <th>0</th>\n",
       "      <td>13500</td>\n",
       "      <td>46986</td>\n",
       "      <td>Diesel</td>\n",
       "      <td>90</td>\n",
       "      <td>0</td>\n",
       "      <td>2000</td>\n",
       "      <td>three</td>\n",
       "      <td>1165</td>\n",
       "    </tr>\n",
       "    <tr>\n",
       "      <th>1</th>\n",
       "      <td>13750</td>\n",
       "      <td>72937</td>\n",
       "      <td>Diesel</td>\n",
       "      <td>90</td>\n",
       "      <td>0</td>\n",
       "      <td>2000</td>\n",
       "      <td>3</td>\n",
       "      <td>1165</td>\n",
       "    </tr>\n",
       "    <tr>\n",
       "      <th>2</th>\n",
       "      <td>13950</td>\n",
       "      <td>41711</td>\n",
       "      <td>Diesel</td>\n",
       "      <td>90</td>\n",
       "      <td>0</td>\n",
       "      <td>2000</td>\n",
       "      <td>3</td>\n",
       "      <td>1165</td>\n",
       "    </tr>\n",
       "    <tr>\n",
       "      <th>3</th>\n",
       "      <td>14950</td>\n",
       "      <td>48000</td>\n",
       "      <td>Diesel</td>\n",
       "      <td>90</td>\n",
       "      <td>0</td>\n",
       "      <td>2000</td>\n",
       "      <td>3</td>\n",
       "      <td>1165</td>\n",
       "    </tr>\n",
       "    <tr>\n",
       "      <th>4</th>\n",
       "      <td>13750</td>\n",
       "      <td>38500</td>\n",
       "      <td>Diesel</td>\n",
       "      <td>90</td>\n",
       "      <td>0</td>\n",
       "      <td>2000</td>\n",
       "      <td>3</td>\n",
       "      <td>1170</td>\n",
       "    </tr>\n",
       "    <tr>\n",
       "      <th>...</th>\n",
       "      <td>...</td>\n",
       "      <td>...</td>\n",
       "      <td>...</td>\n",
       "      <td>...</td>\n",
       "      <td>...</td>\n",
       "      <td>...</td>\n",
       "      <td>...</td>\n",
       "      <td>...</td>\n",
       "    </tr>\n",
       "    <tr>\n",
       "      <th>1431</th>\n",
       "      <td>7500</td>\n",
       "      <td>20544</td>\n",
       "      <td>Petrol</td>\n",
       "      <td>86</td>\n",
       "      <td>0</td>\n",
       "      <td>1300</td>\n",
       "      <td>3</td>\n",
       "      <td>1025</td>\n",
       "    </tr>\n",
       "    <tr>\n",
       "      <th>1432</th>\n",
       "      <td>10845</td>\n",
       "      <td>??</td>\n",
       "      <td>Petrol</td>\n",
       "      <td>86</td>\n",
       "      <td>0</td>\n",
       "      <td>1300</td>\n",
       "      <td>3</td>\n",
       "      <td>1015</td>\n",
       "    </tr>\n",
       "    <tr>\n",
       "      <th>1433</th>\n",
       "      <td>8500</td>\n",
       "      <td>17016</td>\n",
       "      <td>Petrol</td>\n",
       "      <td>86</td>\n",
       "      <td>0</td>\n",
       "      <td>1300</td>\n",
       "      <td>3</td>\n",
       "      <td>1015</td>\n",
       "    </tr>\n",
       "    <tr>\n",
       "      <th>1434</th>\n",
       "      <td>7250</td>\n",
       "      <td>??</td>\n",
       "      <td>NaN</td>\n",
       "      <td>86</td>\n",
       "      <td>0</td>\n",
       "      <td>1300</td>\n",
       "      <td>3</td>\n",
       "      <td>1015</td>\n",
       "    </tr>\n",
       "    <tr>\n",
       "      <th>1435</th>\n",
       "      <td>6950</td>\n",
       "      <td>1</td>\n",
       "      <td>Petrol</td>\n",
       "      <td>110</td>\n",
       "      <td>0</td>\n",
       "      <td>1600</td>\n",
       "      <td>5</td>\n",
       "      <td>1114</td>\n",
       "    </tr>\n",
       "  </tbody>\n",
       "</table>\n",
       "<p>1436 rows × 8 columns</p>\n",
       "</div>"
      ],
      "text/plain": [
       "      Price     KM FuelType   HP  Automatic    CC  Doors  Weight\n",
       "0     13500  46986   Diesel   90          0  2000  three    1165\n",
       "1     13750  72937   Diesel   90          0  2000      3    1165\n",
       "2     13950  41711   Diesel   90          0  2000      3    1165\n",
       "3     14950  48000   Diesel   90          0  2000      3    1165\n",
       "4     13750  38500   Diesel   90          0  2000      3    1170\n",
       "...     ...    ...      ...  ...        ...   ...    ...     ...\n",
       "1431   7500  20544   Petrol   86          0  1300      3    1025\n",
       "1432  10845     ??   Petrol   86          0  1300      3    1015\n",
       "1433   8500  17016   Petrol   86          0  1300      3    1015\n",
       "1434   7250     ??      NaN   86          0  1300      3    1015\n",
       "1435   6950      1   Petrol  110          0  1600      5    1114\n",
       "\n",
       "[1436 rows x 8 columns]"
      ]
     },
     "execution_count": 40,
     "metadata": {},
     "output_type": "execute_result"
    }
   ],
   "source": [
    "# Selecting Data based on Data Types\n",
    "# select_dtypes : Returns a subset of columns based on dtype\n",
    "\n",
    "# cdt.select_dtypes(include=int,exclude=None)\n",
    "# cdt.select_dtypes(include=int)\n",
    "\n",
    "cdt.select_dtypes(include=[int,object],exclude=None) # Integer Columns"
   ]
  },
  {
   "cell_type": "markdown",
   "id": "ee1ec713",
   "metadata": {},
   "source": [
    "## Concise Summary of Dataframe\n",
    "info() : dtypes, count of Non-Null values, Memory usage"
   ]
  },
  {
   "cell_type": "code",
   "execution_count": 50,
   "id": "cc038ad4",
   "metadata": {},
   "outputs": [
    {
     "name": "stdout",
     "output_type": "stream",
     "text": [
      "<class 'pandas.core.frame.DataFrame'>\n",
      "Int64Index: 1436 entries, 0 to 1435\n",
      "Data columns (total 10 columns):\n",
      " #   Column     Non-Null Count  Dtype  \n",
      "---  ------     --------------  -----  \n",
      " 0   Price      1436 non-null   int64  \n",
      " 1   Age        1336 non-null   float64\n",
      " 2   KM         1436 non-null   object \n",
      " 3   FuelType   1336 non-null   object \n",
      " 4   HP         1436 non-null   object \n",
      " 5   MetColor   1286 non-null   float64\n",
      " 6   Automatic  1436 non-null   int64  \n",
      " 7   CC         1436 non-null   int64  \n",
      " 8   Doors      1436 non-null   object \n",
      " 9   Weight     1436 non-null   int64  \n",
      "dtypes: float64(2), int64(4), object(4)\n",
      "memory usage: 123.4+ KB\n"
     ]
    }
   ],
   "source": [
    "# Concise Summary of Dataframe\n",
    "# info : dtypes, count of Non-Null values, Memory usage\n",
    "cdt.info()"
   ]
  },
  {
   "cell_type": "markdown",
   "id": "43a75f81",
   "metadata": {},
   "source": [
    "## Checking Format of each Column using INFO()\n",
    "\"KM\" has been read as Object instead of Integer\n",
    "\"HP\" has been read as Object instead of Integer\n",
    "\"MetColor\" has been read as float64 instead of True/False\n",
    "\"Automatic\" has been read as int64 instead of True/False\n",
    "\n",
    "Ideally \"Doors\" has been read as Object instead of int64\n",
    "\n",
    "Missing Values Present in few columns (Age, FuelType, MetColor)"
   ]
  },
  {
   "cell_type": "code",
   "execution_count": 66,
   "id": "db4d53a0",
   "metadata": {},
   "outputs": [
    {
     "data": {
      "text/plain": [
       "array(['CNG', 'Diesel', 'Petrol', 'nan'], dtype=object)"
      ]
     },
     "execution_count": 66,
     "metadata": {},
     "output_type": "execute_result"
    }
   ],
   "source": [
    "# Unique Elements of Columns\n",
    "# UNIQUE() : find unique elements of a Column\n",
    "#cdt['FuelType'] = cdt['FuelType'].astype('category')\n",
    "np.unique(cdt['FuelType'].astype('str'))"
   ]
  },
  {
   "cell_type": "code",
   "execution_count": 49,
   "id": "ccfa9388",
   "metadata": {},
   "outputs": [
    {
     "data": {
      "text/plain": [
       "array(['107', '110', '116', '192', '69', '71', '72', '73', '86', '90',\n",
       "       '97', '98', '????'], dtype=object)"
      ]
     },
     "execution_count": 49,
     "metadata": {},
     "output_type": "execute_result"
    }
   ],
   "source": [
    "np.unique(cdt['HP'])"
   ]
  },
  {
   "cell_type": "code",
   "execution_count": 45,
   "id": "d411de70",
   "metadata": {},
   "outputs": [
    {
     "data": {
      "text/plain": [
       "array([ 0.,  1., nan])"
      ]
     },
     "execution_count": 45,
     "metadata": {},
     "output_type": "execute_result"
    }
   ],
   "source": [
    "np.unique(cdt['MetColor'])"
   ]
  },
  {
   "cell_type": "code",
   "execution_count": 38,
   "id": "913388b7",
   "metadata": {},
   "outputs": [
    {
     "data": {
      "text/plain": [
       "array([0, 1], dtype=int64)"
      ]
     },
     "execution_count": 38,
     "metadata": {},
     "output_type": "execute_result"
    }
   ],
   "source": [
    "np.unique(cdt['Automatic'])"
   ]
  },
  {
   "cell_type": "code",
   "execution_count": 39,
   "id": "45e8d9cc",
   "metadata": {},
   "outputs": [
    {
     "data": {
      "text/plain": [
       "array(['2', '3', '4', '5', 'five', 'four', 'three'], dtype=object)"
      ]
     },
     "execution_count": 39,
     "metadata": {},
     "output_type": "execute_result"
    }
   ],
   "source": [
    "np.unique(cdt['Doors'])"
   ]
  }
 ],
 "metadata": {
  "kernelspec": {
   "display_name": "Python 3 (ipykernel)",
   "language": "python",
   "name": "python3"
  },
  "language_info": {
   "codemirror_mode": {
    "name": "ipython",
    "version": 3
   },
   "file_extension": ".py",
   "mimetype": "text/x-python",
   "name": "python",
   "nbconvert_exporter": "python",
   "pygments_lexer": "ipython3",
   "version": "3.9.6"
  }
 },
 "nbformat": 4,
 "nbformat_minor": 5
}
