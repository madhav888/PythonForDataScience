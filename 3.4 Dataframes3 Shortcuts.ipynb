{
 "cells": [
  {
   "cell_type": "markdown",
   "id": "efce230b",
   "metadata": {},
   "source": [
    "# Importing and Cleaning Data\n",
    "\n",
    "### Shortcuts\n",
    "    RUN\n",
    "        Ctrl-Enter: RUN selected cells\n",
    "        Alt + Enter: RUN the current cell, then INSERT another one below if required.\n",
    "        Shift + Enter: RUN the current cell, then SELECT the next one.\n",
    "    \n",
    "    EDIT\n",
    "        ESC: a shortcut to enter the command mode\n",
    "        A:  New Cell Above\n",
    "        B:  New Cell Below\n",
    "        M:  CHANGE to Markdown cell\n",
    "        Y:  CHANGE to Code cell\n",
    "        DD: DELETE the current cell\n",
    "    \n",
    "    Enter: Edit Mode\n",
    "    \n",
    "    Comment\n",
    "        Ctrl + /  : Comment/Uncomment\n",
    "    \n",
    "    Shift Tab : Keyword Documentation/Help\n",
    "    Ctrl Shift - : SPLIT the current cell into two from where your Cursor is\n",
    "    Shift M : merge multiple cells\n",
    "    Shift J/Shift Down : selects the next sell in a downwards direction\n",
    "    Shift K/Shift Up : selects the next sell in a upwards direction"
   ]
  },
  {
   "cell_type": "code",
   "execution_count": 12,
   "id": "14ba0787",
   "metadata": {},
   "outputs": [],
   "source": [
    "import numpy as np\n",
    "import pandas as pd\n",
    "cd = pd.read_csv('Toyota.csv',index_col=0,na_values=[\"??\",\"????\"])"
   ]
  },
  {
   "cell_type": "code",
   "execution_count": 13,
   "id": "eacaeb05",
   "metadata": {},
   "outputs": [],
   "source": [
    "cdt = cd.copy(deep=True)"
   ]
  },
  {
   "cell_type": "code",
   "execution_count": 14,
   "id": "3fefff49",
   "metadata": {},
   "outputs": [
    {
     "name": "stdout",
     "output_type": "stream",
     "text": [
      "<class 'pandas.core.frame.DataFrame'>\n",
      "Int64Index: 1436 entries, 0 to 1435\n",
      "Data columns (total 10 columns):\n",
      " #   Column     Non-Null Count  Dtype  \n",
      "---  ------     --------------  -----  \n",
      " 0   Price      1436 non-null   int64  \n",
      " 1   Age        1336 non-null   float64\n",
      " 2   KM         1421 non-null   float64\n",
      " 3   FuelType   1336 non-null   object \n",
      " 4   HP         1430 non-null   float64\n",
      " 5   MetColor   1286 non-null   float64\n",
      " 6   Automatic  1436 non-null   int64  \n",
      " 7   CC         1436 non-null   int64  \n",
      " 8   Doors      1436 non-null   object \n",
      " 9   Weight     1436 non-null   int64  \n",
      "dtypes: float64(4), int64(4), object(2)\n",
      "memory usage: 123.4+ KB\n"
     ]
    }
   ],
   "source": [
    "# Concise Summary of Dataframe\n",
    "cdt.info()"
   ]
  },
  {
   "cell_type": "markdown",
   "id": "0ddf33a2",
   "metadata": {},
   "source": [
    "## Converting Data Types\n",
    "ASTYPE"
   ]
  },
  {
   "cell_type": "code",
   "execution_count": 16,
   "id": "516ae1e7",
   "metadata": {},
   "outputs": [],
   "source": [
    "# ASTYPE() : Convert Data Types\n",
    "# Converting MetColor and Automatic to OBJECT Data Type\n",
    "cdt['MetColor'] = cdt['MetColor'].astype('object')\n",
    "cdt['Automatic'] = cdt['Automatic'].astype('object')"
   ]
  },
  {
   "cell_type": "code",
   "execution_count": 31,
   "id": "4946edd1",
   "metadata": {},
   "outputs": [
    {
     "name": "stdout",
     "output_type": "stream",
     "text": [
      "<class 'pandas.core.frame.DataFrame'>\n",
      "Int64Index: 1436 entries, 0 to 1435\n",
      "Data columns (total 10 columns):\n",
      " #   Column     Non-Null Count  Dtype  \n",
      "---  ------     --------------  -----  \n",
      " 0   Price      1436 non-null   int64  \n",
      " 1   Age        1336 non-null   float64\n",
      " 2   KM         1421 non-null   float64\n",
      " 3   FuelType   1336 non-null   object \n",
      " 4   HP         1430 non-null   float64\n",
      " 5   MetColor   1286 non-null   object \n",
      " 6   Automatic  1436 non-null   object \n",
      " 7   CC         1436 non-null   int64  \n",
      " 8   Doors      1436 non-null   object \n",
      " 9   Weight     1436 non-null   int64  \n",
      "dtypes: float64(3), int64(3), object(4)\n",
      "memory usage: 123.4+ KB\n"
     ]
    }
   ],
   "source": [
    "cdt.info()"
   ]
  },
  {
   "cell_type": "code",
   "execution_count": 25,
   "id": "a1cc55fb",
   "metadata": {},
   "outputs": [
    {
     "data": {
      "text/plain": [
       "array(['CNG', 'Diesel', 'Petrol', 'nan'], dtype=object)"
      ]
     },
     "execution_count": 25,
     "metadata": {},
     "output_type": "execute_result"
    }
   ],
   "source": [
    "np.unique(cdt['FuelType'].astype('str'))"
   ]
  },
  {
   "cell_type": "markdown",
   "id": "a6a0fdc2",
   "metadata": {},
   "source": [
    "## Memory Consumed\n",
    "nbytes() : get the total bytes consumed by a column\n",
    "Memory Consumed can be reduced using Categorical Data Type"
   ]
  },
  {
   "cell_type": "code",
   "execution_count": 27,
   "id": "b20a4118",
   "metadata": {},
   "outputs": [
    {
     "data": {
      "text/plain": [
       "11488"
      ]
     },
     "execution_count": 27,
     "metadata": {},
     "output_type": "execute_result"
    }
   ],
   "source": [
    "cdt['FuelType'].nbytes"
   ]
  },
  {
   "cell_type": "code",
   "execution_count": 30,
   "id": "5cc8b054",
   "metadata": {},
   "outputs": [
    {
     "data": {
      "text/plain": [
       "1460"
      ]
     },
     "execution_count": 30,
     "metadata": {},
     "output_type": "execute_result"
    }
   ],
   "source": [
    "cdt['FuelType'].astype('category').nbytes"
   ]
  },
  {
   "cell_type": "markdown",
   "id": "64df0c25",
   "metadata": {},
   "source": [
    "## Cleaning \"Doors\" Column\n",
    "replace()\n",
    "\n",
    "numpy.where()"
   ]
  },
  {
   "cell_type": "code",
   "execution_count": 33,
   "id": "90554777",
   "metadata": {},
   "outputs": [
    {
     "data": {
      "text/plain": [
       "array(['2', '3', '4', '5', 'five', 'four', 'three'], dtype=object)"
      ]
     },
     "execution_count": 33,
     "metadata": {},
     "output_type": "execute_result"
    }
   ],
   "source": [
    "np.unique(cdt['Doors'])"
   ]
  },
  {
   "cell_type": "code",
   "execution_count": 37,
   "id": "cff5bb8e",
   "metadata": {},
   "outputs": [],
   "source": [
    "cdt['Doors'].replace('three',3,inplace=True)\n",
    "cdt['Doors'].replace('four',4,inplace=True)\n",
    "cdt['Doors'].replace('five',5,inplace=True)"
   ]
  },
  {
   "cell_type": "code",
   "execution_count": 44,
   "id": "4ef9bd03",
   "metadata": {},
   "outputs": [
    {
     "data": {
      "text/plain": [
       "array([2, 3, 4, 5])"
      ]
     },
     "execution_count": 44,
     "metadata": {},
     "output_type": "execute_result"
    }
   ],
   "source": [
    "np.unique(cdt['Doors'].astype('int'))"
   ]
  },
  {
   "cell_type": "code",
   "execution_count": 45,
   "id": "39e6298c",
   "metadata": {},
   "outputs": [],
   "source": [
    "cdt['Doors'] = cdt['Doors'].astype('int64')"
   ]
  },
  {
   "cell_type": "code",
   "execution_count": 46,
   "id": "096d84eb",
   "metadata": {},
   "outputs": [
    {
     "data": {
      "text/plain": [
       "array([2, 3, 4, 5], dtype=int64)"
      ]
     },
     "execution_count": 46,
     "metadata": {},
     "output_type": "execute_result"
    }
   ],
   "source": [
    "np.unique(cdt['Doors'])"
   ]
  },
  {
   "cell_type": "markdown",
   "id": "8ee585d6",
   "metadata": {},
   "source": [
    "## Missing Values Detection\n",
    "isnull().sum() : number of missing values"
   ]
  },
  {
   "cell_type": "code",
   "execution_count": 50,
   "id": "683b5ced",
   "metadata": {},
   "outputs": [
    {
     "data": {
      "text/plain": [
       "15"
      ]
     },
     "execution_count": 50,
     "metadata": {},
     "output_type": "execute_result"
    }
   ],
   "source": [
    "# cdt.isnull().sum()\n",
    "cdt['KM'].isnull().sum()"
   ]
  },
  {
   "cell_type": "markdown",
   "id": "e15992ec",
   "metadata": {},
   "source": [
    "# Control, Functions etc\n",
    "IF-ELIF-ELSE, FOR, WHILE"
   ]
  },
  {
   "cell_type": "code",
   "execution_count": 51,
   "id": "cc9a8f2c",
   "metadata": {},
   "outputs": [],
   "source": [
    "# Create 3 bins for the Car Price\n",
    "# Create a New Column as Price_Class\n",
    "# insert(col_position, col_name,Values)\n",
    "cdt.insert(10,\"Price_Class\",\"\")"
   ]
  },
  {
   "cell_type": "code",
   "execution_count": 57,
   "id": "2a2ca831",
   "metadata": {},
   "outputs": [
    {
     "name": "stderr",
     "output_type": "stream",
     "text": [
      "C:\\Users\\madha\\AppData\\Local\\Temp/ipykernel_9628/1700028778.py:5: SettingWithCopyWarning: \n",
      "A value is trying to be set on a copy of a slice from a DataFrame\n",
      "\n",
      "See the caveats in the documentation: https://pandas.pydata.org/pandas-docs/stable/user_guide/indexing.html#returning-a-view-versus-a-copy\n",
      "  cdt['Price_Class'][i] = \"High\"\n",
      "C:\\Users\\madha\\AppData\\Local\\Temp/ipykernel_9628/1700028778.py:3: SettingWithCopyWarning: \n",
      "A value is trying to be set on a copy of a slice from a DataFrame\n",
      "\n",
      "See the caveats in the documentation: https://pandas.pydata.org/pandas-docs/stable/user_guide/indexing.html#returning-a-view-versus-a-copy\n",
      "  cdt['Price_Class'][i] = \"Low\"\n",
      "C:\\Users\\madha\\AppData\\Local\\Temp/ipykernel_9628/1700028778.py:7: SettingWithCopyWarning: \n",
      "A value is trying to be set on a copy of a slice from a DataFrame\n",
      "\n",
      "See the caveats in the documentation: https://pandas.pydata.org/pandas-docs/stable/user_guide/indexing.html#returning-a-view-versus-a-copy\n",
      "  cdt['Price_Class'][i] = \"Medium\"\n"
     ]
    }
   ],
   "source": [
    "for i in range(0,len(cdt['Price']),1):\n",
    "    if cdt['Price'][i] <= 8450:\n",
    "        cdt['Price_Class'][i] = \"Low\"\n",
    "    elif cdt['Price'][i] > 11950:\n",
    "        cdt['Price_Class'][i] = \"High\"\n",
    "    else:\n",
    "        cdt['Price_Class'][i] = \"Medium\""
   ]
  },
  {
   "cell_type": "markdown",
   "id": "78ad470c",
   "metadata": {},
   "source": [
    "### Get Frequencies of each values in a column(Occurances)"
   ]
  },
  {
   "cell_type": "code",
   "execution_count": 55,
   "id": "19fb6c79",
   "metadata": {},
   "outputs": [
    {
     "data": {
      "text/plain": [
       "Medium    751\n",
       "Low       369\n",
       "High      316\n",
       "Name: Price_Class, dtype: int64"
      ]
     },
     "execution_count": 55,
     "metadata": {},
     "output_type": "execute_result"
    }
   ],
   "source": [
    "cdt['Price_Class'].value_counts()"
   ]
  },
  {
   "cell_type": "markdown",
   "id": "de4fc0f0",
   "metadata": {},
   "source": [
    "### Functions"
   ]
  },
  {
   "cell_type": "code",
   "execution_count": 58,
   "id": "36d31e87",
   "metadata": {},
   "outputs": [],
   "source": [
    "# New Column as Age_Converted\n",
    "cdt.insert(11,\"Age_Converted\",0)"
   ]
  },
  {
   "cell_type": "code",
   "execution_count": 62,
   "id": "5495bcba",
   "metadata": {},
   "outputs": [],
   "source": [
    "# Function to get Age(Months) and return converted Age(Years)\n",
    "def c_convert(val):\n",
    "    val_converted = val/12\n",
    "    return val_converted"
   ]
  },
  {
   "cell_type": "code",
   "execution_count": 63,
   "id": "c291c0ef",
   "metadata": {},
   "outputs": [],
   "source": [
    "cdt['Age_Converted'] = c_convert(cdt['Age'])"
   ]
  },
  {
   "cell_type": "code",
   "execution_count": 64,
   "id": "c0271fa9",
   "metadata": {},
   "outputs": [],
   "source": [
    "# Rounded upto 1 decimals\n",
    "cdt['Age_Converted'] = round(cdt['Age_Converted'],1)"
   ]
  },
  {
   "cell_type": "code",
   "execution_count": 66,
   "id": "59a1ff2e",
   "metadata": {},
   "outputs": [],
   "source": [
    "cdt['Age_Converted'] = np.where(cdt['Age'] > 10, True, False)"
   ]
  },
  {
   "cell_type": "code",
   "execution_count": 67,
   "id": "a66a2756",
   "metadata": {},
   "outputs": [
    {
     "data": {
      "text/plain": [
       "True     1311\n",
       "False     125\n",
       "Name: Age_Converted, dtype: int64"
      ]
     },
     "execution_count": 67,
     "metadata": {},
     "output_type": "execute_result"
    }
   ],
   "source": [
    "cdt['Age_Converted'].value_counts()"
   ]
  },
  {
   "cell_type": "code",
   "execution_count": 73,
   "id": "7ae15d0a",
   "metadata": {},
   "outputs": [
    {
     "data": {
      "text/plain": [
       "0    23.0\n",
       "1    23.0\n",
       "2    24.0\n",
       "3    26.0\n",
       "4    30.0\n",
       "Name: Age, dtype: float64"
      ]
     },
     "execution_count": 73,
     "metadata": {},
     "output_type": "execute_result"
    }
   ],
   "source": [
    "cdt['Age'].head()"
   ]
  },
  {
   "cell_type": "code",
   "execution_count": 69,
   "id": "f6ec4669",
   "metadata": {},
   "outputs": [
    {
     "data": {
      "text/plain": [
       "1431    False\n",
       "1432     True\n",
       "1433    False\n",
       "1434     True\n",
       "1435     True\n",
       "Name: Age_Converted, dtype: bool"
      ]
     },
     "execution_count": 69,
     "metadata": {},
     "output_type": "execute_result"
    }
   ],
   "source": [
    "cdt['Age_Converted'].tail()"
   ]
  },
  {
   "cell_type": "code",
   "execution_count": 70,
   "id": "f97ecfd5",
   "metadata": {},
   "outputs": [
    {
     "data": {
      "text/plain": [
       "True"
      ]
     },
     "execution_count": 70,
     "metadata": {},
     "output_type": "execute_result"
    }
   ],
   "source": [
    "cdt['Age_Converted'][2]"
   ]
  },
  {
   "cell_type": "code",
   "execution_count": 71,
   "id": "3f27e09b",
   "metadata": {},
   "outputs": [
    {
     "name": "stderr",
     "output_type": "stream",
     "text": [
      "C:\\Users\\madha\\AppData\\Local\\Temp/ipykernel_9628/3459461793.py:1: SettingWithCopyWarning: \n",
      "A value is trying to be set on a copy of a slice from a DataFrame\n",
      "\n",
      "See the caveats in the documentation: https://pandas.pydata.org/pandas-docs/stable/user_guide/indexing.html#returning-a-view-versus-a-copy\n",
      "  cdt['Age_Converted'][2] = \"X\"\n",
      "c:\\users\\madha\\appdata\\local\\programs\\python\\python39\\lib\\site-packages\\pandas\\core\\indexing.py:1732: SettingWithCopyWarning: \n",
      "A value is trying to be set on a copy of a slice from a DataFrame\n",
      "\n",
      "See the caveats in the documentation: https://pandas.pydata.org/pandas-docs/stable/user_guide/indexing.html#returning-a-view-versus-a-copy\n",
      "  self._setitem_single_block(indexer, value, name)\n"
     ]
    }
   ],
   "source": [
    "cdt['Age_Converted'][2] = \"X\""
   ]
  },
  {
   "cell_type": "code",
   "execution_count": 74,
   "id": "14ceb89a",
   "metadata": {},
   "outputs": [
    {
     "data": {
      "text/plain": [
       "12"
      ]
     },
     "execution_count": 74,
     "metadata": {},
     "output_type": "execute_result"
    }
   ],
   "source": [
    "len(cdt.columns)"
   ]
  },
  {
   "cell_type": "code",
   "execution_count": 75,
   "id": "ca9dc5f7",
   "metadata": {},
   "outputs": [
    {
     "data": {
      "text/plain": [
       "1436"
      ]
     },
     "execution_count": 75,
     "metadata": {},
     "output_type": "execute_result"
    }
   ],
   "source": [
    "len(cdt)"
   ]
  },
  {
   "cell_type": "code",
   "execution_count": 76,
   "id": "ea72562b",
   "metadata": {},
   "outputs": [
    {
     "data": {
      "text/plain": [
       "17232"
      ]
     },
     "execution_count": 76,
     "metadata": {},
     "output_type": "execute_result"
    }
   ],
   "source": [
    "cdt.size"
   ]
  },
  {
   "cell_type": "code",
   "execution_count": 77,
   "id": "cd2961e3",
   "metadata": {},
   "outputs": [
    {
     "name": "stdout",
     "output_type": "stream",
     "text": [
      "<class 'pandas.core.frame.DataFrame'>\n",
      "Int64Index: 1436 entries, 0 to 1435\n",
      "Data columns (total 12 columns):\n",
      " #   Column         Non-Null Count  Dtype  \n",
      "---  ------         --------------  -----  \n",
      " 0   Price          1436 non-null   int64  \n",
      " 1   Age            1336 non-null   float64\n",
      " 2   KM             1421 non-null   float64\n",
      " 3   FuelType       1336 non-null   object \n",
      " 4   HP             1430 non-null   float64\n",
      " 5   MetColor       1286 non-null   object \n",
      " 6   Automatic      1436 non-null   object \n",
      " 7   CC             1436 non-null   int64  \n",
      " 8   Doors          1436 non-null   int64  \n",
      " 9   Weight         1436 non-null   int64  \n",
      " 10  Price_Class    1436 non-null   object \n",
      " 11  Age_Converted  1436 non-null   object \n",
      "dtypes: float64(3), int64(4), object(5)\n",
      "memory usage: 178.1+ KB\n"
     ]
    }
   ],
   "source": [
    "cdt.info()"
   ]
  },
  {
   "cell_type": "code",
   "execution_count": null,
   "id": "7d510bc7",
   "metadata": {},
   "outputs": [],
   "source": []
  }
 ],
 "metadata": {
  "kernelspec": {
   "display_name": "Python 3 (ipykernel)",
   "language": "python",
   "name": "python3"
  },
  "language_info": {
   "codemirror_mode": {
    "name": "ipython",
    "version": 3
   },
   "file_extension": ".py",
   "mimetype": "text/x-python",
   "name": "python",
   "nbconvert_exporter": "python",
   "pygments_lexer": "ipython3",
   "version": "3.9.6"
  }
 },
 "nbformat": 4,
 "nbformat_minor": 5
}
